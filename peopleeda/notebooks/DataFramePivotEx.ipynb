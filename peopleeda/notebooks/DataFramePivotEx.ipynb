{
 "cells": [
  {
   "cell_type": "code",
   "execution_count": 9,
   "metadata": {},
   "outputs": [
    {
     "name": "stdout",
     "output_type": "stream",
     "text": [
      "+-----------+------------------+------------+----------+--------+-------------+-----------------+----------+\n",
      "|  education|        occupation| Federal-gov| Local-gov| Private| Self-emp-inc| Self-emp-not-inc| State-gov|\n",
      "+-----------+------------------+------------+----------+--------+-------------+-----------------+----------+\n",
      "|  Assoc-voc|      Adm-clerical|         151|       450|    1409|           50|               50|       150|\n",
      "|       11th|      Adm-clerical|         150|       200|     901|         null|              100|       100|\n",
      "|    Masters|  Transport-moving|          50|      null|     304|           50|             null|        50|\n",
      "|  Assoc-voc| Machine-op-inspct|        null|      null|     654|           51|               50|        51|\n",
      "|    7th-8th|             Sales|        null|      null|     552|           50|              402|      null|\n",
      "|    5th-6th| Handlers-cleaners|        null|       101|     501|         null|               50|      null|\n",
      "|    Masters|      Adm-clerical|         202|       252|     756|           50|             null|       352|\n",
      "|    Masters|      Armed-Forces|          51|      null|    null|         null|             null|      null|\n",
      "|  Bachelors|  Transport-moving|         100|       100|     857|         null|              301|      null|\n",
      "|  Assoc-voc|   Farming-fishing|          50|      null|     452|          101|              904|      null|\n",
      "|    7th-8th|   Priv-house-serv|        null|      null|     350|         null|             null|      null|\n",
      "| Assoc-acdm| Handlers-cleaners|        null|        50|     702|         null|             null|      null|\n",
      "|    1st-4th|     Other-service|        null|       150|     650|         null|              100|        50|\n",
      "|       10th|     Other-service|         100|       250|    1701|          100|              250|       150|\n",
      "|  Bachelors| Machine-op-inspct|        null|        50|     905|          152|              101|       100|\n",
      "|       11th|     Other-service|          50|       350|    1852|         null|              251|       251|\n",
      "|       12th|   Priv-house-serv|        null|      null|     100|         null|             null|      null|\n",
      "| Assoc-acdm|  Transport-moving|          50|        50|     501|         null|              252|        50|\n",
      "|  Bachelors|    Prof-specialty|         858|      2314|    3886|          607|             1465|      1662|\n",
      "|    5th-6th|   Exec-managerial|        null|      null|    null|         null|               51|      null|\n",
      "+-----------+------------------+------------+----------+--------+-------------+-----------------+----------+\n",
      "only showing top 20 rows\n",
      "\n"
     ]
    }
   ],
   "source": [
    "from __future__ import print_function;\n",
    "import sys;\n",
    "import findspark\n",
    "findspark.init('/home/imran/spark')\n",
    "\n",
    "\n",
    "from pyspark.sql import SparkSession;\n",
    "from pyspark.sql.types import StructType, StructField, StringType, IntegerType;\n",
    "from pyspark.sql.functions import regexp_replace, ltrim, rtrim;\n",
    "\n",
    "filepath = \"/home/imran/py/PepoleEDA/data/adult.data\";\n",
    "\n",
    "spark = SparkSession.builder.appName(\"DataFramePivotEx\").getOrCreate();\n",
    "\n",
    "strct = StructType([StructField(\"age\", IntegerType(), True), \n",
    "\tStructField(\"workclass\", StringType(), True),\n",
    "\tStructField(\"finalweight\", StringType(), True),\n",
    "\tStructField(\"education\", StringType(), True),\n",
    "\tStructField(\"educationnum\", StringType(), True),\n",
    "\tStructField(\"maritalstatus\", StringType(), True),\n",
    "\tStructField(\"occupation\", StringType(), True),\n",
    "\tStructField(\"relationship\", StringType(), True),\n",
    "\tStructField(\"race\", StringType(), True),\n",
    "\tStructField(\"gender\", StringType(), True),\n",
    "\tStructField(\"capitalgain\", StringType(), True),\n",
    "\tStructField(\"capitalloss\", StringType(), True),\n",
    "\tStructField(\"hoursperweek\", StringType(), True),\n",
    "\tStructField(\"country\", StringType(), True),\n",
    "\tStructField(\"salary\", StringType(), True)]);\n",
    "\n",
    "df = spark.read.csv(filepath, schema=strct);\n",
    "\n",
    "dfregex1 = df.select(df.workclass, df.finalweight, df.education, df.educationnum, df.maritalstatus, \n",
    "                     df.occupation, df.relationship, df.race , df.gender, df.capitalgain, df.capitalloss\n",
    "                     , df.hoursperweek, df.country, regexp_replace(df.salary, '(<=50K)', '50').alias('salary'));\n",
    "\n",
    "dfregex = dfregex1.select(dfregex1.workclass, dfregex1.finalweight, dfregex1.education, dfregex1.educationnum\n",
    "                          , dfregex1.maritalstatus, dfregex1.occupation, dfregex1.relationship, dfregex1.race \n",
    "                          , dfregex1.gender, dfregex1.capitalgain, dfregex1.capitalloss, dfregex1.hoursperweek\n",
    "                          , dfregex1.country, regexp_replace(dfregex1.salary, '(>50K)', '51').alias('salary'));\n",
    "df =dfregex;\n",
    "\n",
    "df = dfregex.na.fill({'salary':'0'});\n",
    "df = df.select(df.workclass, df.education, df.occupation\n",
    "               , (ltrim(rtrim(df.hoursperweek))).cast(IntegerType()).alias(\"hoursperweek\") \n",
    "               , (rtrim(ltrim(df.salary))).cast(IntegerType()).alias(\"salary\") ).na.drop().distinct();\n",
    "df = df.filter(ltrim(rtrim(df.workclass)) != \"?\" )\n",
    "df = df.filter(ltrim(rtrim(df.workclass)) != \"Without-pay\") \n",
    "df = df.filter(ltrim(rtrim(df.workclass)) != \"Never-worked\") \n",
    "\n",
    "\n",
    "df.groupBy(\"education\",\"occupation\").pivot(\"workclass\").sum(\"salary\").show()\n"
   ]
  },
  {
   "cell_type": "code",
   "execution_count": 2,
   "metadata": {},
   "outputs": [
    {
     "name": "stdout",
     "output_type": "stream",
     "text": [
      "+-----------+------------------+------------+----------+--------+-------------+-----------------+----------+\n",
      "|  education|        occupation| Federal-gov| Local-gov| Private| Self-emp-inc| Self-emp-not-inc| State-gov|\n",
      "+-----------+------------------+------------+----------+--------+-------------+-----------------+----------+\n",
      "|  Assoc-voc|      Adm-clerical|         151|       450|    1409|           50|               50|       150|\n",
      "|       11th|      Adm-clerical|         150|       200|     901|         null|              100|       100|\n",
      "|    Masters|  Transport-moving|          50|      null|     304|           50|             null|        50|\n",
      "|  Assoc-voc| Machine-op-inspct|        null|      null|     654|           51|               50|        51|\n",
      "|    7th-8th|             Sales|        null|      null|     552|           50|              402|      null|\n",
      "|    5th-6th| Handlers-cleaners|        null|       101|     501|         null|               50|      null|\n",
      "|    Masters|      Adm-clerical|         202|       252|     756|           50|             null|       352|\n",
      "|    Masters|      Armed-Forces|          51|      null|    null|         null|             null|      null|\n",
      "|  Bachelors|  Transport-moving|         100|       100|     857|         null|              301|      null|\n",
      "|  Assoc-voc|   Farming-fishing|          50|      null|     452|          101|              904|      null|\n",
      "|    7th-8th|   Priv-house-serv|        null|      null|     350|         null|             null|      null|\n",
      "| Assoc-acdm| Handlers-cleaners|        null|        50|     702|         null|             null|      null|\n",
      "|    1st-4th|     Other-service|        null|       150|     650|         null|              100|        50|\n",
      "|       10th|     Other-service|         100|       250|    1701|          100|              250|       150|\n",
      "|  Bachelors| Machine-op-inspct|        null|        50|     905|          152|              101|       100|\n",
      "|       11th|     Other-service|          50|       350|    1852|         null|              251|       251|\n",
      "|       12th|   Priv-house-serv|        null|      null|     100|         null|             null|      null|\n",
      "| Assoc-acdm|  Transport-moving|          50|        50|     501|         null|              252|        50|\n",
      "|  Bachelors|    Prof-specialty|         858|      2314|    3886|          607|             1465|      1662|\n",
      "|    5th-6th|   Exec-managerial|        null|      null|    null|         null|               51|      null|\n",
      "+-----------+------------------+------------+----------+--------+-------------+-----------------+----------+\n",
      "only showing top 20 rows\n",
      "\n"
     ]
    }
   ],
   "source": [
    "df.groupBy(\"education\",\"occupation\").pivot(\"workclass\").sum(\"salary\").show()\n"
   ]
  },
  {
   "cell_type": "code",
   "execution_count": 5,
   "metadata": {},
   "outputs": [
    {
     "name": "stdout",
     "output_type": "stream",
     "text": [
      "+----------------+---+---+\n",
      "|education_salary| 50| 51|\n",
      "+----------------+---+---+\n",
      "|         HS-grad|899|385|\n",
      "|             9th|154| 24|\n",
      "|       Assoc-voc|293|138|\n",
      "|            10th|243| 35|\n",
      "|         7th-8th|202| 28|\n",
      "|      Assoc-acdm|282|119|\n",
      "|    Some-college|812|355|\n",
      "|         1st-4th| 77|  5|\n",
      "|            11th|300| 40|\n",
      "|       Preschool| 29|  0|\n",
      "|         5th-6th|102| 12|\n",
      "|       Doctorate| 57|100|\n",
      "|            12th|150| 20|\n",
      "|     Prof-school| 77|122|\n",
      "|       Bachelors|543|400|\n",
      "|         Masters|237|206|\n",
      "+----------------+---+---+\n",
      "\n"
     ]
    }
   ],
   "source": [
    "df.crosstab(\"education\",\"salary\").show()"
   ]
  },
  {
   "cell_type": "code",
   "execution_count": 6,
   "metadata": {},
   "outputs": [
    {
     "name": "stdout",
     "output_type": "stream",
     "text": [
      "+------------------+---+---+\n",
      "| occupation_salary| 50| 51|\n",
      "+------------------+---+---+\n",
      "|      Armed-Forces|  8|  1|\n",
      "|             Sales|457|235|\n",
      "|   Exec-managerial|451|396|\n",
      "|      Craft-repair|437|200|\n",
      "|   Protective-serv|167| 96|\n",
      "|   Farming-fishing|316| 79|\n",
      "|    Prof-specialty|538|398|\n",
      "| Machine-op-inspct|231| 70|\n",
      "|      Tech-support|186|108|\n",
      "|      Adm-clerical|458|163|\n",
      "| Handlers-cleaners|250| 41|\n",
      "|  Transport-moving|298|119|\n",
      "|     Other-service|578| 82|\n",
      "|   Priv-house-serv| 82|  1|\n",
      "+------------------+---+---+\n",
      "\n"
     ]
    }
   ],
   "source": [
    "df.crosstab(\"occupation\",\"salary\").show()"
   ]
  },
  {
   "cell_type": "code",
   "execution_count": 8,
   "metadata": {},
   "outputs": [
    {
     "name": "stdout",
     "output_type": "stream",
     "text": [
      "+-----------+------------------+------------+----------+--------+-------------+-----------------+----------+\n",
      "|  education|        occupation| Federal-gov| Local-gov| Private| Self-emp-inc| Self-emp-not-inc| State-gov|\n",
      "+-----------+------------------+------------+----------+--------+-------------+-----------------+----------+\n",
      "|  Assoc-voc|      Adm-clerical|         151|       450|    1409|           50|               50|       150|\n",
      "|       11th|      Adm-clerical|         150|       200|     901|         null|              100|       100|\n",
      "|    Masters|  Transport-moving|          50|      null|     304|           50|             null|        50|\n",
      "|  Assoc-voc| Machine-op-inspct|        null|      null|     654|           51|               50|        51|\n",
      "|    7th-8th|             Sales|        null|      null|     552|           50|              402|      null|\n",
      "|    5th-6th| Handlers-cleaners|        null|       101|     501|         null|               50|      null|\n",
      "|    Masters|      Adm-clerical|         202|       252|     756|           50|             null|       352|\n",
      "|    Masters|      Armed-Forces|          51|      null|    null|         null|             null|      null|\n",
      "|  Bachelors|  Transport-moving|         100|       100|     857|         null|              301|      null|\n",
      "|  Assoc-voc|   Farming-fishing|          50|      null|     452|          101|              904|      null|\n",
      "|    7th-8th|   Priv-house-serv|        null|      null|     350|         null|             null|      null|\n",
      "| Assoc-acdm| Handlers-cleaners|        null|        50|     702|         null|             null|      null|\n",
      "|    1st-4th|     Other-service|        null|       150|     650|         null|              100|        50|\n",
      "|       10th|     Other-service|         100|       250|    1701|          100|              250|       150|\n",
      "|  Bachelors| Machine-op-inspct|        null|        50|     905|          152|              101|       100|\n",
      "|       11th|     Other-service|          50|       350|    1852|         null|              251|       251|\n",
      "|       12th|   Priv-house-serv|        null|      null|     100|         null|             null|      null|\n",
      "| Assoc-acdm|  Transport-moving|          50|        50|     501|         null|              252|        50|\n",
      "|  Bachelors|    Prof-specialty|         858|      2314|    3886|          607|             1465|      1662|\n",
      "|    5th-6th|   Exec-managerial|        null|      null|    null|         null|               51|      null|\n",
      "+-----------+------------------+------------+----------+--------+-------------+-----------------+----------+\n",
      "only showing top 20 rows\n",
      "\n"
     ]
    }
   ],
   "source": [
    "df.groupBy(\"education\",\"occupation\").pivot(\"workclass\").sum(\"salary\").show()\n"
   ]
  },
  {
   "cell_type": "code",
   "execution_count": null,
   "metadata": {},
   "outputs": [],
   "source": []
  },
  {
   "cell_type": "code",
   "execution_count": null,
   "metadata": {},
   "outputs": [],
   "source": []
  }
 ],
 "metadata": {
  "kernelspec": {
   "display_name": "Python 2",
   "language": "python",
   "name": "python2"
  },
  "language_info": {
   "codemirror_mode": {
    "name": "ipython",
    "version": 2
   },
   "file_extension": ".py",
   "mimetype": "text/x-python",
   "name": "python",
   "nbconvert_exporter": "python",
   "pygments_lexer": "ipython2",
   "version": "2.7.12"
  }
 },
 "nbformat": 4,
 "nbformat_minor": 2
}
