{
 "cells": [
  {
   "cell_type": "code",
   "execution_count": 3,
   "metadata": {},
   "outputs": [],
   "source": [
    "from __future__ import print_function;\n",
    "import sys;\n",
    "import findspark\n",
    "findspark.init('/home/imran/spark')\n",
    "\n",
    "\n",
    "from pyspark.sql import SparkSession;\n",
    "from pyspark.sql.types import StructType, StructField, StringType, IntegerType;\n",
    "from pyspark.sql.functions import regexp_replace, ltrim, rtrim;\n",
    "\n",
    "filepath = \"/home/imran/py/PepoleEDA/data/ConfLongDemo_JSI.txt\";\n",
    "\n",
    "spark = SparkSession.builder.appName(\"Parse DF Using UDF\").getOrCreate();"
   ]
  },
  {
   "cell_type": "code",
   "execution_count": 4,
   "metadata": {},
   "outputs": [],
   "source": [
    "df = spark.read.csv(filepath, inferSchema=True, ignoreLeadingWhiteSpace=True, ignoreTrailingWhiteSpace=True, maxColumns=100\n",
    "                   , timestampFormat='dd.MM.yyyy HH:mm:ss:SSS' );"
   ]
  },
  {
   "cell_type": "code",
   "execution_count": 5,
   "metadata": {},
   "outputs": [
    {
     "name": "stdout",
     "output_type": "stream",
     "text": [
      "StructType(List(StructField(_c0,StringType,true),StructField(_c1,StringType,true),StructField(_c2,LongType,true),StructField(_c3,TimestampType,true),StructField(_c4,DoubleType,true),StructField(_c5,DoubleType,true),StructField(_c6,DoubleType,true),StructField(_c7,StringType,true)))\n"
     ]
    },
    {
     "data": {
      "text/plain": [
       "[Row(_c3=datetime.datetime(2009, 5, 27, 14, 3, 25, 453000))]"
      ]
     },
     "execution_count": 5,
     "metadata": {},
     "output_type": "execute_result"
    }
   ],
   "source": [
    "print(df.schema);\n",
    "df.select('_c3').distinct().take(1)"
   ]
  },
  {
   "cell_type": "code",
   "execution_count": 73,
   "metadata": {},
   "outputs": [
    {
     "name": "stdout",
     "output_type": "stream",
     "text": [
      "+-----------------------+\n",
      "|_c3                    |\n",
      "+-----------------------+\n",
      "|27.05.2009 14:03:25:127|\n",
      "|27.05.2009 14:03:25:183|\n",
      "+-----------------------+\n",
      "only showing top 2 rows\n",
      "\n",
      "StructType(List(StructField(_c0,StringType,true),StructField(_c1,StringType,true),StructField(_c2,LongType,true),StructField(_c3,StringType,true),StructField(_c4,DoubleType,true),StructField(_c5,DoubleType,true),StructField(_c6,DoubleType,true),StructField(_c7,StringType,true)))\n"
     ]
    }
   ],
   "source": [
    "df = spark.read.csv(filepath, inferSchema=True, ignoreLeadingWhiteSpace=True, ignoreTrailingWhiteSpace=True, maxColumns=100);\n",
    "df.select(\"_c3\").show(2, False);\n",
    "print(df.schema);"
   ]
  },
  {
   "cell_type": "code",
   "execution_count": 75,
   "metadata": {},
   "outputs": [
    {
     "name": "stdout",
     "output_type": "stream",
     "text": [
      "Method one, exception handling can be customized\n",
      "+-------------+\n",
      "|ConvertedDate|\n",
      "+-------------+\n",
      "|2009-05-27   |\n",
      "|2009-05-27   |\n",
      "|2009-05-27   |\n",
      "+-------------+\n",
      "only showing top 3 rows\n",
      "\n",
      "root\n",
      " |-- _c0: string (nullable = true)\n",
      " |-- _c1: string (nullable = true)\n",
      " |-- _c2: long (nullable = true)\n",
      " |-- _c3: string (nullable = true)\n",
      " |-- _c4: double (nullable = true)\n",
      " |-- _c5: double (nullable = true)\n",
      " |-- _c6: double (nullable = true)\n",
      " |-- _c7: string (nullable = true)\n",
      " |-- ConvertedDate: date (nullable = true)\n",
      "\n",
      "Method two, no exception handling\n",
      "Although we are handling null values using ternary operator, but in case of buff chars in date string ~ then it breaks\n",
      "+----------+\n",
      "|dtColumn  |\n",
      "+----------+\n",
      "|2009-05-27|\n",
      "|2009-05-27|\n",
      "|2009-05-27|\n",
      "|2009-05-27|\n",
      "|2009-05-27|\n",
      "+----------+\n",
      "only showing top 5 rows\n",
      "\n",
      "root\n",
      " |-- _c0: string (nullable = true)\n",
      " |-- _c1: string (nullable = true)\n",
      " |-- _c2: long (nullable = true)\n",
      " |-- _c3: string (nullable = true)\n",
      " |-- _c4: double (nullable = true)\n",
      " |-- _c5: double (nullable = true)\n",
      " |-- _c6: double (nullable = true)\n",
      " |-- _c7: string (nullable = true)\n",
      " |-- dtColumn: date (nullable = true)\n",
      "\n"
     ]
    }
   ],
   "source": [
    "from pyspark.sql.functions import udf, col\n",
    "from pyspark.sql.types import DateType\n",
    "\n",
    "\n",
    "strformat = '%d.%m.%Y %H:%M:%S:%f';\n",
    "\n",
    "print(\"Method one, exception handling can be customized\")\n",
    "def udf_formatdate(x): \n",
    "    dvalue = None;\n",
    "    try:\n",
    "         dvalue = datetime.strptime(x if x!= None else '27.05.2009 14:03:25:127', strformat);\n",
    "    except ValueError as e:\n",
    "        dvalue = datetime.now();\n",
    "    return dvalue;\n",
    "\n",
    "udf_str_date = udf(udf_formatdate, DateType());\n",
    "df1 = df.withColumn(\"ConvertedDate\",udf_str_date(col(\"_c3\")) )\n",
    "df1.select(\"ConvertedDate\").show(3, False) \n",
    "df1.printSchema();\n",
    "\n",
    "print(\"Method two, no exception handling\")\n",
    "print(\"Although we are handling null values using ternary operator, but in case of buff chars in date string ~ then it breaks\")\n",
    "func =  udf (lambda x: datetime.strptime(x if x!= None else '27.05.2009 14:03:25:127', strformat), DateType())\n",
    "df2 = df.withColumn('dtColumn', func(col('_c3')))\n",
    "df2.select(\"dtColumn\").show(5, False)\n",
    "df2.printSchema();\n",
    "\n"
   ]
  },
  {
   "cell_type": "code",
   "execution_count": null,
   "metadata": {},
   "outputs": [],
   "source": []
  }
 ],
 "metadata": {
  "kernelspec": {
   "display_name": "Python 2",
   "language": "python",
   "name": "python2"
  },
  "language_info": {
   "codemirror_mode": {
    "name": "ipython",
    "version": 2
   },
   "file_extension": ".py",
   "mimetype": "text/x-python",
   "name": "python",
   "nbconvert_exporter": "python",
   "pygments_lexer": "ipython2",
   "version": "2.7.12"
  }
 },
 "nbformat": 4,
 "nbformat_minor": 2
}
